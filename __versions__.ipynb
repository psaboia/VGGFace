{
 "cells": [
  {
   "cell_type": "code",
   "execution_count": 1,
   "metadata": {},
   "outputs": [
    {
     "name": "stdout",
     "output_type": "stream",
     "text": [
      "python==3.6.9\n",
      "tensorflow==2.0.0\n",
      "keras==Using TensorFlow backend.\n",
      "2.3.1\n"
     ]
    }
   ],
   "source": [
    "print(\"python==\", end=\"\")\n",
    "from platform import python_version\n",
    "print(python_version())\n",
    "\n",
    "print(\"tensorflow==\", end=\"\")\n",
    "!python3.6 -c 'import tensorflow as tf; print(tf.__version__)'\n",
    "\n",
    "print(\"keras==\", end=\"\")\n",
    "!python3.6 -c 'import keras; print(keras.__version__)'"
   ]
  },
  {
   "cell_type": "code",
   "execution_count": null,
   "metadata": {},
   "outputs": [],
   "source": []
  }
 ],
 "metadata": {
  "kernelspec": {
   "display_name": "Python 3",
   "language": "python",
   "name": "python3"
  },
  "language_info": {
   "codemirror_mode": {
    "name": "ipython",
    "version": 3
   },
   "file_extension": ".py",
   "mimetype": "text/x-python",
   "name": "python",
   "nbconvert_exporter": "python",
   "pygments_lexer": "ipython3",
   "version": "3.6.9"
  }
 },
 "nbformat": 4,
 "nbformat_minor": 4
}
